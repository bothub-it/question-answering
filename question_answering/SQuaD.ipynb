{
 "cells": [
  {
   "cell_type": "code",
   "execution_count": 1,
   "metadata": {},
   "outputs": [
    {
     "name": "stdout",
     "output_type": "stream",
     "text": [
      "/home/jupyter\n",
      "SQuaD.ipynb\n",
      "XLM-Roberta\n",
      "bert_bert-base-multilingual-cased_squad-2_batch_large\n",
      "bert_bert-base-multilingual-cased_train_tydiqa-train-formatted_batch_large\n",
      "checkpoint-35620-epoch-5\n",
      "checkpoint-7124-epoch-1\n",
      "download_from_bucket.ipynb\n",
      "test_data-pt.json\n",
      "train-v2.0-pt.json\n",
      "train_data-pt.json\n",
      "training_progress_scores.csv\n",
      "tutorials\n",
      "upload_to_bucket.ipynb\n",
      "xlmroberta_xlm-roberta-base_train_tydiqa-train-formatted_batch_large\n",
      "xlmroberta_xlm-roberta-large_train_tydiqa-train-formatted_batch_large\n"
     ]
    }
   ],
   "source": [
    "!pwd\n",
    "!ls"
   ]
  },
  {
   "cell_type": "code",
   "execution_count": 2,
   "metadata": {},
   "outputs": [],
   "source": [
    "import os\n",
    "import json\n",
    "\n",
    "# !pip install simpletransformers\n",
    "# !pip install torch==1.7.0+cu110 torchvision==0.8.1+cu110 torchaudio===0.7.0 -f https://download.pytorch.org/whl/torch_stable.html\n",
    "from simpletransformers.question_answering import QuestionAnsweringModel"
   ]
  },
  {
   "cell_type": "markdown",
   "metadata": {},
   "source": [
    "# Split data"
   ]
  },
  {
   "cell_type": "code",
   "execution_count": null,
   "metadata": {},
   "outputs": [],
   "source": [
    "# \"\"\" Split train/test into files \"\"\"\n",
    "# with open('train-v2.0-pt.json', 'r') as f:\n",
    "#     data = json.load(f)\n",
    "\n",
    "# split_ratio = 0.15\n",
    "# data = [item for topic in data['data'] for item in topic['paragraphs'] ]\n",
    "# test_size = int(split_ratio * len(data))\n",
    "# test_data = data[:test_size]\n",
    "# train_data = data[test_size:]\n",
    "\n",
    "# with open('train_data-pt.json', 'w') as f:\n",
    "#     json.dump(train_data, f, indent=2)\n",
    "\n",
    "# with open('test_data-pt.json', 'w') as f:\n",
    "#     json.dump(test_data, f, indent=2)"
   ]
  },
  {
   "cell_type": "markdown",
   "metadata": {},
   "source": [
    "# Load Model"
   ]
  },
  {
   "cell_type": "code",
   "execution_count": 3,
   "metadata": {},
   "outputs": [
    {
     "name": "stdout",
     "output_type": "stream",
     "text": [
      "loading model\n",
      "model loaded\n"
     ]
    }
   ],
   "source": [
    "# train_args = {\n",
    "#     'learning_rate': 3e-5,\n",
    "#     'num_train_epochs': 2,\n",
    "#     'max_seq_length': 512,\n",
    "#     'doc_stride': 384,\n",
    "#     'overwrite_output_dir': True,\n",
    "#     'reprocess_input_data': False,\n",
    "#     'train_batch_size': 4,\n",
    "#     'gradient_accumulation_steps': 4,\n",
    "\n",
    "#     'n_best_size': 3,\n",
    "#     'eval_batch_size': 2,\n",
    "#     \"evaluate_during_training\": True,\n",
    "#     'evaluate_during_training_verbose': True,\n",
    "#     \"use_cached_eval_features\": True,\n",
    "# }\n",
    "\n",
    "train_args = {\n",
    "  \"num_train_epochs\": 2,\n",
    "  \"max_seq_lenght\": 384,\n",
    "  \"train_batch_size\": 16,\n",
    "  \"gradient_accumulation_steps\": 1,\n",
    "  \"eval_batch_size\": 16,\n",
    "  \"save_steps\": -1,\n",
    "  \"save_model_every_epoch\": True,\n",
    "  \"evaluate_during_training_steps\": -1,\n",
    "  \"evaluate_during_training\": True,\n",
    "  \"evaluate_during_training_verbose\": True,\n",
    "  \"use_cached_eval_features\": True\n",
    "}\n",
    "\n",
    "model_dir = 'xlmroberta_xlm-roberta-large_train_tydiqa-train-formatted_batch_large/best_model'\n",
    "# model_dir = 'outputs/checkpoint-16842-epoch-1'\n",
    "# model_dir = 'neuralmind/bert-large-portuguese-cased' # <-- BERT-base model\n",
    "# model_dir = 'salti/bert-base-multilingual-cased-finetuned-squad'\n",
    "# model_dir = 'XLM-Roberta/checkpoint-5560-epoch-2'\n",
    "\n",
    "# model_type = 'bert'\n",
    "model_type = 'xlmroberta'\n",
    "print('loading model')\n",
    "model = QuestionAnsweringModel(model_type, model_dir, args=train_args, use_cuda=True)\n",
    "print('model loaded')"
   ]
  },
  {
   "cell_type": "markdown",
   "metadata": {},
   "source": [
    "# Train Model"
   ]
  },
  {
   "cell_type": "code",
   "execution_count": null,
   "metadata": {},
   "outputs": [
    {
     "name": "stderr",
     "output_type": "stream",
     "text": [
      "convert squad examples to features: 100%|██████████| 71/71 [00:00<00:00, 134.52it/s]\n",
      "add example index and unique id: 100%|██████████| 71/71 [00:00<00:00, 428482.85it/s]\n"
     ]
    },
    {
     "data": {
      "application/vnd.jupyter.widget-view+json": {
       "model_id": "8c3615478ee947dab5d49206b236f029",
       "version_major": 2,
       "version_minor": 0
      },
      "text/plain": [
       "HBox(children=(HTML(value='Epoch'), FloatProgress(value=0.0, max=2.0), HTML(value='')))"
      ]
     },
     "metadata": {},
     "output_type": "display_data"
    },
    {
     "data": {
      "application/vnd.jupyter.widget-view+json": {
       "model_id": "8e44a60c62014d109e02ffad7be42486",
       "version_major": 2,
       "version_minor": 0
      },
      "text/plain": [
       "HBox(children=(HTML(value='Running Epoch 0 of 2'), FloatProgress(value=0.0, max=64.0), HTML(value='')))"
      ]
     },
     "metadata": {},
     "output_type": "display_data"
    },
    {
     "name": "stdout",
     "output_type": "stream",
     "text": [
      "\n"
     ]
    },
    {
     "name": "stderr",
     "output_type": "stream",
     "text": [
      "/opt/conda/lib/python3.7/site-packages/torch/optim/lr_scheduler.py:216: UserWarning: Please also save or load the state of the optimizer when saving or loading the scheduler.\n",
      "  warnings.warn(SAVE_STATE_WARNING, UserWarning)\n",
      "\n",
      "convert squad examples to features:   0%|          | 0/125 [00:00<?, ?it/s]\u001b[A\n",
      "convert squad examples to features: 100%|██████████| 125/125 [00:01<00:00, 99.89it/s]A\n",
      "\n",
      "add example index and unique id: 100%|██████████| 125/125 [00:00<00:00, 259291.79it/s]\n"
     ]
    },
    {
     "data": {
      "application/vnd.jupyter.widget-view+json": {
       "model_id": "e482016ee7db4243ae049cefcd8b401c",
       "version_major": 2,
       "version_minor": 0
      },
      "text/plain": [
       "HBox(children=(HTML(value='Running Evaluation'), FloatProgress(value=0.0, max=150.0), HTML(value='')))"
      ]
     },
     "metadata": {},
     "output_type": "display_data"
    },
    {
     "name": "stdout",
     "output_type": "stream",
     "text": [
      "\n"
     ]
    },
    {
     "data": {
      "application/vnd.jupyter.widget-view+json": {
       "model_id": "8a236e41a0924e91916d6b01b3c1c7b9",
       "version_major": 2,
       "version_minor": 0
      },
      "text/plain": [
       "HBox(children=(HTML(value='Running Epoch 1 of 2'), FloatProgress(value=0.0, max=64.0), HTML(value='')))"
      ]
     },
     "metadata": {},
     "output_type": "display_data"
    },
    {
     "name": "stdout",
     "output_type": "stream",
     "text": [
      "\n"
     ]
    },
    {
     "name": "stderr",
     "output_type": "stream",
     "text": [
      "\n",
      "convert squad examples to features:   0%|          | 0/125 [00:00<?, ?it/s]\u001b[A\n",
      "convert squad examples to features: 100%|██████████| 125/125 [00:01<00:00, 98.89it/s]A\n",
      "\n",
      "add example index and unique id: 100%|██████████| 125/125 [00:00<00:00, 431512.76it/s]\n"
     ]
    },
    {
     "data": {
      "application/vnd.jupyter.widget-view+json": {
       "model_id": "99b21a1a1a0543bd9bc4b47a9af78a2b",
       "version_major": 2,
       "version_minor": 0
      },
      "text/plain": [
       "HBox(children=(HTML(value='Running Evaluation'), FloatProgress(value=0.0, max=150.0), HTML(value='')))"
      ]
     },
     "metadata": {},
     "output_type": "display_data"
    },
    {
     "name": "stdout",
     "output_type": "stream",
     "text": [
      "\n"
     ]
    }
   ],
   "source": [
    "train_dataset_path = 'train_data-pt.json'\n",
    "eval_dataset_path = 'test_data-pt.json'\n",
    "\n",
    "with open(train_dataset_path, 'r') as f:\n",
    "    train_data = json.load(f)\n",
    "\n",
    "with open(eval_dataset_path, 'r') as f:\n",
    "    eval_data = json.load(f)\n",
    "\n",
    "model.train_model(train_data[:10], eval_data=eval_data[:10], output_dir='train_eval')"
   ]
  },
  {
   "cell_type": "markdown",
   "metadata": {},
   "source": [
    "# Exemplo"
   ]
  },
  {
   "cell_type": "code",
   "execution_count": 13,
   "metadata": {},
   "outputs": [
    {
     "name": "stdout",
     "output_type": "stream",
     "text": [
      "3775\n"
     ]
    },
    {
     "name": "stderr",
     "output_type": "stream",
     "text": [
      "convert squad examples to features: 100%|██████████| 1/1 [00:00<00:00, 107.63it/s]\n",
      "add example index and unique id: 100%|██████████| 1/1 [00:00<00:00, 11428.62it/s]\n"
     ]
    },
    {
     "data": {
      "application/vnd.jupyter.widget-view+json": {
       "model_id": "b8328a8761044b1ea8b0e44a5229dec1",
       "version_major": 2,
       "version_minor": 0
      },
      "text/plain": [
       "HBox(children=(HTML(value='Running Prediction'), FloatProgress(value=0.0, max=1.0), HTML(value='')))"
      ]
     },
     "metadata": {},
     "output_type": "display_data"
    },
    {
     "name": "stdout",
     "output_type": "stream",
     "text": [
      "\n",
      "Pergunta:  Quem e o CEO e cofundador do facebook?\n",
      "Resposta:  \n",
      "Confiança:  0.997421503544368\n",
      "\n"
     ]
    },
    {
     "name": "stderr",
     "output_type": "stream",
     "text": [
      "convert squad examples to features: 100%|██████████| 1/1 [00:00<00:00, 95.53it/s]\n",
      "add example index and unique id: 100%|██████████| 1/1 [00:00<00:00, 14513.16it/s]\n"
     ]
    },
    {
     "data": {
      "application/vnd.jupyter.widget-view+json": {
       "model_id": "6ee26e8553464a2daaaa6847a76da5bc",
       "version_major": 2,
       "version_minor": 0
      },
      "text/plain": [
       "HBox(children=(HTML(value='Running Prediction'), FloatProgress(value=0.0, max=1.0), HTML(value='')))"
      ]
     },
     "metadata": {},
     "output_type": "display_data"
    },
    {
     "name": "stdout",
     "output_type": "stream",
     "text": [
      "\n",
      "Pergunta:  Quem e o CEO e cofundador do facebook?\n",
      "Resposta:  \n",
      "Confiança:  0.997421503544368\n",
      "\n"
     ]
    },
    {
     "name": "stderr",
     "output_type": "stream",
     "text": [
      "convert squad examples to features: 100%|██████████| 1/1 [00:00<00:00, 108.32it/s]\n",
      "add example index and unique id: 100%|██████████| 1/1 [00:00<00:00, 16008.79it/s]\n"
     ]
    },
    {
     "data": {
      "application/vnd.jupyter.widget-view+json": {
       "model_id": "277c350397f542008419e2f1a04b3876",
       "version_major": 2,
       "version_minor": 0
      },
      "text/plain": [
       "HBox(children=(HTML(value='Running Prediction'), FloatProgress(value=0.0, max=1.0), HTML(value='')))"
      ]
     },
     "metadata": {},
     "output_type": "display_data"
    },
    {
     "name": "stdout",
     "output_type": "stream",
     "text": [
      "\n",
      "Pergunta:  Quem e o CEO e cofundador do facebook?\n",
      "Resposta:  \n",
      "Confiança:  0.997421503544368\n",
      "\n"
     ]
    },
    {
     "name": "stderr",
     "output_type": "stream",
     "text": [
      "convert squad examples to features: 100%|██████████| 1/1 [00:00<00:00, 107.82it/s]\n",
      "add example index and unique id: 100%|██████████| 1/1 [00:00<00:00, 10106.76it/s]\n"
     ]
    },
    {
     "data": {
      "application/vnd.jupyter.widget-view+json": {
       "model_id": "76fe19a11a01450c9f8cb185849a2e8e",
       "version_major": 2,
       "version_minor": 0
      },
      "text/plain": [
       "HBox(children=(HTML(value='Running Prediction'), FloatProgress(value=0.0, max=1.0), HTML(value='')))"
      ]
     },
     "metadata": {},
     "output_type": "display_data"
    },
    {
     "name": "stdout",
     "output_type": "stream",
     "text": [
      "\n",
      "Pergunta:  Oque e o Bothub?\n",
      "Resposta:  \n",
      "Confiança:  0.9911564107937015\n",
      "\n"
     ]
    },
    {
     "name": "stderr",
     "output_type": "stream",
     "text": [
      "convert squad examples to features: 100%|██████████| 1/1 [00:00<00:00, 163.24it/s]\n",
      "add example index and unique id: 100%|██████████| 1/1 [00:00<00:00, 12787.51it/s]\n"
     ]
    },
    {
     "data": {
      "application/vnd.jupyter.widget-view+json": {
       "model_id": "7aa84b9b7fed4d32864fe3bac62dc899",
       "version_major": 2,
       "version_minor": 0
      },
      "text/plain": [
       "HBox(children=(HTML(value='Running Prediction'), FloatProgress(value=0.0, max=1.0), HTML(value='')))"
      ]
     },
     "metadata": {},
     "output_type": "display_data"
    },
    {
     "name": "stdout",
     "output_type": "stream",
     "text": [
      "\n",
      "Pergunta:  Oque e o Bothub?\n",
      "Resposta:  \n",
      "Confiança:  0.9911564107937015\n",
      "\n"
     ]
    },
    {
     "name": "stderr",
     "output_type": "stream",
     "text": [
      "convert squad examples to features: 100%|██████████| 1/1 [00:00<00:00, 87.49it/s]\n",
      "add example index and unique id: 100%|██████████| 1/1 [00:00<00:00, 16448.25it/s]\n"
     ]
    },
    {
     "data": {
      "application/vnd.jupyter.widget-view+json": {
       "model_id": "71d167410d5841629de312adc1c6eaf9",
       "version_major": 2,
       "version_minor": 0
      },
      "text/plain": [
       "HBox(children=(HTML(value='Running Prediction'), FloatProgress(value=0.0, max=1.0), HTML(value='')))"
      ]
     },
     "metadata": {},
     "output_type": "display_data"
    },
    {
     "name": "stdout",
     "output_type": "stream",
     "text": [
      "\n",
      "Pergunta:  Oque e o Bothub?\n",
      "Resposta:  \n",
      "Confiança:  0.9911564107937015\n",
      "\n"
     ]
    },
    {
     "name": "stderr",
     "output_type": "stream",
     "text": [
      "convert squad examples to features: 100%|██████████| 1/1 [00:00<00:00, 103.12it/s]\n",
      "add example index and unique id: 100%|██████████| 1/1 [00:00<00:00, 17549.39it/s]\n"
     ]
    },
    {
     "data": {
      "application/vnd.jupyter.widget-view+json": {
       "model_id": "8efdf6ce690c44bfa959d1398c03fdee",
       "version_major": 2,
       "version_minor": 0
      },
      "text/plain": [
       "HBox(children=(HTML(value='Running Prediction'), FloatProgress(value=0.0, max=1.0), HTML(value='')))"
      ]
     },
     "metadata": {},
     "output_type": "display_data"
    },
    {
     "name": "stdout",
     "output_type": "stream",
     "text": [
      "\n",
      "Pergunta:  Qual minha comida favorita?\n",
      "Resposta:  \n",
      "Confiança:  0.9999999709341025\n",
      "\n"
     ]
    },
    {
     "name": "stderr",
     "output_type": "stream",
     "text": [
      "Process ForkPoolWorker-929:\n",
      "Process ForkPoolWorker-930:\n",
      "Exception ignored in: <function _after_fork at 0x7ff4bb41ba70>\n",
      "Traceback (most recent call last):\n",
      "Traceback (most recent call last):\n",
      "  File \"/opt/conda/lib/python3.7/threading.py\", line 1375, in _after_fork\n",
      "  File \"/opt/conda/lib/python3.7/multiprocessing/process.py\", line 297, in _bootstrap\n",
      "    self.run()\n",
      "Traceback (most recent call last):\n",
      "  File \"/opt/conda/lib/python3.7/multiprocessing/process.py\", line 99, in run\n",
      "    self._target(*self._args, **self._kwargs)\n",
      "  File \"/opt/conda/lib/python3.7/multiprocessing/process.py\", line 297, in _bootstrap\n",
      "    self.run()\n",
      "  File \"/opt/conda/lib/python3.7/multiprocessing/pool.py\", line 110, in worker\n",
      "    task = get()\n",
      "  File \"/opt/conda/lib/python3.7/multiprocessing/queues.py\", line 351, in get\n",
      "    with self._rlock:\n",
      "  File \"/opt/conda/lib/python3.7/multiprocessing/synchronize.py\", line 95, in __enter__\n",
      "    return self._semlock.__enter__()\n",
      "  File \"/opt/conda/lib/python3.7/multiprocessing/process.py\", line 99, in run\n",
      "    self._target(*self._args, **self._kwargs)\n",
      "    thread._reset_internal_locks(False)KeyboardInterrupt\n",
      "  File \"/opt/conda/lib/python3.7/multiprocessing/pool.py\", line 110, in worker\n",
      "    task = get()\n",
      "\n",
      "  File \"/opt/conda/lib/python3.7/multiprocessing/queues.py\", line 352, in get\n",
      "    res = self._reader.recv_bytes()\n",
      "  File \"/opt/conda/lib/python3.7/multiprocessing/connection.py\", line 216, in recv_bytes\n",
      "    buf = self._recv_bytes(maxlength)\n",
      "  File \"/opt/conda/lib/python3.7/multiprocessing/connection.py\", line 407, in _recv_bytes\n",
      "    buf = self._recv(4)\n",
      "  File \"/opt/conda/lib/python3.7/multiprocessing/connection.py\", line 379, in _recv\n",
      "    chunk = read(handle, remaining)\n",
      "  File \"/opt/conda/lib/python3.7/threading.py\", line 811, in _reset_internal_locks\n",
      "    self._started._reset_internal_locks()\n",
      "  File \"/opt/conda/lib/python3.7/threading.py\", line 505, in _reset_internal_locks\n",
      "    self._cond.__init__(Lock())KeyboardInterrupt\n",
      "\n",
      "  File \"/opt/conda/lib/python3.7/threading.py\", line 221, in __init__\n",
      "    self.acquire = lock.acquire\n",
      "KeyboardInterrupt: \n"
     ]
    },
    {
     "ename": "KeyboardInterrupt",
     "evalue": "",
     "output_type": "error",
     "traceback": [
      "\u001b[0;31m---------------------------------------------------------------------------\u001b[0m",
      "\u001b[0;31mKeyboardInterrupt\u001b[0m                         Traceback (most recent call last)",
      "\u001b[0;32m<ipython-input-13-1b6049b52887>\u001b[0m in \u001b[0;36m<module>\u001b[0;34m\u001b[0m\n\u001b[1;32m    152\u001b[0m         \u001b[0;32mfor\u001b[0m \u001b[0m_\u001b[0m \u001b[0;32min\u001b[0m \u001b[0mrange\u001b[0m\u001b[0;34m(\u001b[0m\u001b[0mn_predicts\u001b[0m\u001b[0;34m)\u001b[0m\u001b[0;34m:\u001b[0m\u001b[0;34m\u001b[0m\u001b[0;34m\u001b[0m\u001b[0m\n\u001b[1;32m    153\u001b[0m \u001b[0;34m\u001b[0m\u001b[0m\n\u001b[0;32m--> 154\u001b[0;31m             \u001b[0mpred\u001b[0m \u001b[0;34m=\u001b[0m \u001b[0mmodel\u001b[0m\u001b[0;34m.\u001b[0m\u001b[0mpredict\u001b[0m\u001b[0;34m(\u001b[0m\u001b[0mquery\u001b[0m\u001b[0;34m)\u001b[0m\u001b[0;34m\u001b[0m\u001b[0;34m\u001b[0m\u001b[0m\n\u001b[0m\u001b[1;32m    155\u001b[0m             \u001b[0mprint\u001b[0m\u001b[0;34m(\u001b[0m\u001b[0;34m\"Pergunta: \"\u001b[0m\u001b[0;34m,\u001b[0m \u001b[0mquestion\u001b[0m\u001b[0;34m)\u001b[0m\u001b[0;34m\u001b[0m\u001b[0;34m\u001b[0m\u001b[0m\n\u001b[1;32m    156\u001b[0m             \u001b[0mprint\u001b[0m\u001b[0;34m(\u001b[0m\u001b[0;34m\"Resposta: \"\u001b[0m\u001b[0;34m,\u001b[0m \u001b[0mpred\u001b[0m\u001b[0;34m[\u001b[0m\u001b[0;36m0\u001b[0m\u001b[0;34m]\u001b[0m\u001b[0;34m[\u001b[0m\u001b[0;36m0\u001b[0m\u001b[0;34m]\u001b[0m\u001b[0;34m[\u001b[0m\u001b[0;34m'answer'\u001b[0m\u001b[0;34m]\u001b[0m\u001b[0;34m[\u001b[0m\u001b[0;36m0\u001b[0m\u001b[0;34m]\u001b[0m\u001b[0;34m)\u001b[0m\u001b[0;34m\u001b[0m\u001b[0;34m\u001b[0m\u001b[0m\n",
      "\u001b[0;32m/opt/conda/lib/python3.7/site-packages/simpletransformers/question_answering/question_answering_model.py\u001b[0m in \u001b[0;36mpredict\u001b[0;34m(self, to_predict, n_best_size)\u001b[0m\n\u001b[1;32m    992\u001b[0m         \u001b[0meval_examples\u001b[0m \u001b[0;34m=\u001b[0m \u001b[0mbuild_examples\u001b[0m\u001b[0;34m(\u001b[0m\u001b[0mto_predict\u001b[0m\u001b[0;34m)\u001b[0m\u001b[0;34m\u001b[0m\u001b[0;34m\u001b[0m\u001b[0m\n\u001b[1;32m    993\u001b[0m         eval_dataset, examples, features = self.load_and_cache_examples(\n\u001b[0;32m--> 994\u001b[0;31m             \u001b[0meval_examples\u001b[0m\u001b[0;34m,\u001b[0m \u001b[0mevaluate\u001b[0m\u001b[0;34m=\u001b[0m\u001b[0;32mTrue\u001b[0m\u001b[0;34m,\u001b[0m \u001b[0moutput_examples\u001b[0m\u001b[0;34m=\u001b[0m\u001b[0;32mTrue\u001b[0m\u001b[0;34m,\u001b[0m \u001b[0mno_cache\u001b[0m\u001b[0;34m=\u001b[0m\u001b[0;32mTrue\u001b[0m\u001b[0;34m\u001b[0m\u001b[0;34m\u001b[0m\u001b[0m\n\u001b[0m\u001b[1;32m    995\u001b[0m         )\n\u001b[1;32m    996\u001b[0m \u001b[0;34m\u001b[0m\u001b[0m\n",
      "\u001b[0;32m/opt/conda/lib/python3.7/site-packages/simpletransformers/question_answering/question_answering_model.py\u001b[0m in \u001b[0;36mload_and_cache_examples\u001b[0;34m(self, examples, evaluate, no_cache, output_examples)\u001b[0m\n\u001b[1;32m    242\u001b[0m                 \u001b[0mtqdm_enabled\u001b[0m\u001b[0;34m=\u001b[0m\u001b[0;32mnot\u001b[0m \u001b[0margs\u001b[0m\u001b[0;34m.\u001b[0m\u001b[0msilent\u001b[0m\u001b[0;34m,\u001b[0m\u001b[0;34m\u001b[0m\u001b[0;34m\u001b[0m\u001b[0m\n\u001b[1;32m    243\u001b[0m                 \u001b[0mthreads\u001b[0m\u001b[0;34m=\u001b[0m\u001b[0margs\u001b[0m\u001b[0;34m.\u001b[0m\u001b[0mprocess_count\u001b[0m\u001b[0;34m,\u001b[0m\u001b[0;34m\u001b[0m\u001b[0;34m\u001b[0m\u001b[0m\n\u001b[0;32m--> 244\u001b[0;31m                 \u001b[0margs\u001b[0m\u001b[0;34m=\u001b[0m\u001b[0margs\u001b[0m\u001b[0;34m,\u001b[0m\u001b[0;34m\u001b[0m\u001b[0;34m\u001b[0m\u001b[0m\n\u001b[0m\u001b[1;32m    245\u001b[0m             )\n\u001b[1;32m    246\u001b[0m \u001b[0;34m\u001b[0m\u001b[0m\n",
      "\u001b[0;32m/opt/conda/lib/python3.7/site-packages/simpletransformers/question_answering/question_answering_utils.py\u001b[0m in \u001b[0;36msquad_convert_examples_to_features\u001b[0;34m(examples, tokenizer, max_seq_length, doc_stride, max_query_length, is_training, padding_strategy, return_dataset, threads, tqdm_enabled, args)\u001b[0m\n\u001b[1;32m    435\u001b[0m     \u001b[0mthreads\u001b[0m \u001b[0;34m=\u001b[0m \u001b[0mmin\u001b[0m\u001b[0;34m(\u001b[0m\u001b[0mthreads\u001b[0m\u001b[0;34m,\u001b[0m \u001b[0mcpu_count\u001b[0m\u001b[0;34m(\u001b[0m\u001b[0;34m)\u001b[0m\u001b[0;34m)\u001b[0m\u001b[0;34m\u001b[0m\u001b[0;34m\u001b[0m\u001b[0m\n\u001b[1;32m    436\u001b[0m     \u001b[0;32mif\u001b[0m \u001b[0margs\u001b[0m\u001b[0;34m.\u001b[0m\u001b[0muse_multiprocessing\u001b[0m\u001b[0;34m:\u001b[0m\u001b[0;34m\u001b[0m\u001b[0;34m\u001b[0m\u001b[0m\n\u001b[0;32m--> 437\u001b[0;31m         \u001b[0;32mwith\u001b[0m \u001b[0mPool\u001b[0m\u001b[0;34m(\u001b[0m\u001b[0mthreads\u001b[0m\u001b[0;34m,\u001b[0m \u001b[0minitializer\u001b[0m\u001b[0;34m=\u001b[0m\u001b[0msquad_convert_example_to_features_init\u001b[0m\u001b[0;34m,\u001b[0m \u001b[0minitargs\u001b[0m\u001b[0;34m=\u001b[0m\u001b[0;34m(\u001b[0m\u001b[0mtokenizer\u001b[0m\u001b[0;34m,\u001b[0m\u001b[0;34m)\u001b[0m\u001b[0;34m)\u001b[0m \u001b[0;32mas\u001b[0m \u001b[0mp\u001b[0m\u001b[0;34m:\u001b[0m\u001b[0;34m\u001b[0m\u001b[0;34m\u001b[0m\u001b[0m\n\u001b[0m\u001b[1;32m    438\u001b[0m             annotate_ = partial(\n\u001b[1;32m    439\u001b[0m                 \u001b[0msquad_convert_example_to_features\u001b[0m\u001b[0;34m,\u001b[0m\u001b[0;34m\u001b[0m\u001b[0;34m\u001b[0m\u001b[0m\n",
      "\u001b[0;32m/opt/conda/lib/python3.7/multiprocessing/context.py\u001b[0m in \u001b[0;36mPool\u001b[0;34m(self, processes, initializer, initargs, maxtasksperchild)\u001b[0m\n\u001b[1;32m    117\u001b[0m         \u001b[0;32mfrom\u001b[0m \u001b[0;34m.\u001b[0m\u001b[0mpool\u001b[0m \u001b[0;32mimport\u001b[0m \u001b[0mPool\u001b[0m\u001b[0;34m\u001b[0m\u001b[0;34m\u001b[0m\u001b[0m\n\u001b[1;32m    118\u001b[0m         return Pool(processes, initializer, initargs, maxtasksperchild,\n\u001b[0;32m--> 119\u001b[0;31m                     context=self.get_context())\n\u001b[0m\u001b[1;32m    120\u001b[0m \u001b[0;34m\u001b[0m\u001b[0m\n\u001b[1;32m    121\u001b[0m     \u001b[0;32mdef\u001b[0m \u001b[0mRawValue\u001b[0m\u001b[0;34m(\u001b[0m\u001b[0mself\u001b[0m\u001b[0;34m,\u001b[0m \u001b[0mtypecode_or_type\u001b[0m\u001b[0;34m,\u001b[0m \u001b[0;34m*\u001b[0m\u001b[0margs\u001b[0m\u001b[0;34m)\u001b[0m\u001b[0;34m:\u001b[0m\u001b[0;34m\u001b[0m\u001b[0;34m\u001b[0m\u001b[0m\n",
      "\u001b[0;32m/opt/conda/lib/python3.7/multiprocessing/pool.py\u001b[0m in \u001b[0;36m__init__\u001b[0;34m(self, processes, initializer, initargs, maxtasksperchild, context)\u001b[0m\n\u001b[1;32m    174\u001b[0m         \u001b[0mself\u001b[0m\u001b[0;34m.\u001b[0m\u001b[0m_processes\u001b[0m \u001b[0;34m=\u001b[0m \u001b[0mprocesses\u001b[0m\u001b[0;34m\u001b[0m\u001b[0;34m\u001b[0m\u001b[0m\n\u001b[1;32m    175\u001b[0m         \u001b[0mself\u001b[0m\u001b[0;34m.\u001b[0m\u001b[0m_pool\u001b[0m \u001b[0;34m=\u001b[0m \u001b[0;34m[\u001b[0m\u001b[0;34m]\u001b[0m\u001b[0;34m\u001b[0m\u001b[0;34m\u001b[0m\u001b[0m\n\u001b[0;32m--> 176\u001b[0;31m         \u001b[0mself\u001b[0m\u001b[0;34m.\u001b[0m\u001b[0m_repopulate_pool\u001b[0m\u001b[0;34m(\u001b[0m\u001b[0;34m)\u001b[0m\u001b[0;34m\u001b[0m\u001b[0;34m\u001b[0m\u001b[0m\n\u001b[0m\u001b[1;32m    177\u001b[0m \u001b[0;34m\u001b[0m\u001b[0m\n\u001b[1;32m    178\u001b[0m         self._worker_handler = threading.Thread(\n",
      "\u001b[0;32m/opt/conda/lib/python3.7/multiprocessing/pool.py\u001b[0m in \u001b[0;36m_repopulate_pool\u001b[0;34m(self)\u001b[0m\n\u001b[1;32m    239\u001b[0m             \u001b[0mw\u001b[0m\u001b[0;34m.\u001b[0m\u001b[0mname\u001b[0m \u001b[0;34m=\u001b[0m \u001b[0mw\u001b[0m\u001b[0;34m.\u001b[0m\u001b[0mname\u001b[0m\u001b[0;34m.\u001b[0m\u001b[0mreplace\u001b[0m\u001b[0;34m(\u001b[0m\u001b[0;34m'Process'\u001b[0m\u001b[0;34m,\u001b[0m \u001b[0;34m'PoolWorker'\u001b[0m\u001b[0;34m)\u001b[0m\u001b[0;34m\u001b[0m\u001b[0;34m\u001b[0m\u001b[0m\n\u001b[1;32m    240\u001b[0m             \u001b[0mw\u001b[0m\u001b[0;34m.\u001b[0m\u001b[0mdaemon\u001b[0m \u001b[0;34m=\u001b[0m \u001b[0;32mTrue\u001b[0m\u001b[0;34m\u001b[0m\u001b[0;34m\u001b[0m\u001b[0m\n\u001b[0;32m--> 241\u001b[0;31m             \u001b[0mw\u001b[0m\u001b[0;34m.\u001b[0m\u001b[0mstart\u001b[0m\u001b[0;34m(\u001b[0m\u001b[0;34m)\u001b[0m\u001b[0;34m\u001b[0m\u001b[0;34m\u001b[0m\u001b[0m\n\u001b[0m\u001b[1;32m    242\u001b[0m             \u001b[0mutil\u001b[0m\u001b[0;34m.\u001b[0m\u001b[0mdebug\u001b[0m\u001b[0;34m(\u001b[0m\u001b[0;34m'added worker'\u001b[0m\u001b[0;34m)\u001b[0m\u001b[0;34m\u001b[0m\u001b[0;34m\u001b[0m\u001b[0m\n\u001b[1;32m    243\u001b[0m \u001b[0;34m\u001b[0m\u001b[0m\n",
      "\u001b[0;32m/opt/conda/lib/python3.7/multiprocessing/process.py\u001b[0m in \u001b[0;36mstart\u001b[0;34m(self)\u001b[0m\n\u001b[1;32m    110\u001b[0m                \u001b[0;34m'daemonic processes are not allowed to have children'\u001b[0m\u001b[0;34m\u001b[0m\u001b[0;34m\u001b[0m\u001b[0m\n\u001b[1;32m    111\u001b[0m         \u001b[0m_cleanup\u001b[0m\u001b[0;34m(\u001b[0m\u001b[0;34m)\u001b[0m\u001b[0;34m\u001b[0m\u001b[0;34m\u001b[0m\u001b[0m\n\u001b[0;32m--> 112\u001b[0;31m         \u001b[0mself\u001b[0m\u001b[0;34m.\u001b[0m\u001b[0m_popen\u001b[0m \u001b[0;34m=\u001b[0m \u001b[0mself\u001b[0m\u001b[0;34m.\u001b[0m\u001b[0m_Popen\u001b[0m\u001b[0;34m(\u001b[0m\u001b[0mself\u001b[0m\u001b[0;34m)\u001b[0m\u001b[0;34m\u001b[0m\u001b[0;34m\u001b[0m\u001b[0m\n\u001b[0m\u001b[1;32m    113\u001b[0m         \u001b[0mself\u001b[0m\u001b[0;34m.\u001b[0m\u001b[0m_sentinel\u001b[0m \u001b[0;34m=\u001b[0m \u001b[0mself\u001b[0m\u001b[0;34m.\u001b[0m\u001b[0m_popen\u001b[0m\u001b[0;34m.\u001b[0m\u001b[0msentinel\u001b[0m\u001b[0;34m\u001b[0m\u001b[0;34m\u001b[0m\u001b[0m\n\u001b[1;32m    114\u001b[0m         \u001b[0;31m# Avoid a refcycle if the target function holds an indirect\u001b[0m\u001b[0;34m\u001b[0m\u001b[0;34m\u001b[0m\u001b[0;34m\u001b[0m\u001b[0m\n",
      "\u001b[0;32m/opt/conda/lib/python3.7/multiprocessing/context.py\u001b[0m in \u001b[0;36m_Popen\u001b[0;34m(process_obj)\u001b[0m\n\u001b[1;32m    275\u001b[0m         \u001b[0;32mdef\u001b[0m \u001b[0m_Popen\u001b[0m\u001b[0;34m(\u001b[0m\u001b[0mprocess_obj\u001b[0m\u001b[0;34m)\u001b[0m\u001b[0;34m:\u001b[0m\u001b[0;34m\u001b[0m\u001b[0;34m\u001b[0m\u001b[0m\n\u001b[1;32m    276\u001b[0m             \u001b[0;32mfrom\u001b[0m \u001b[0;34m.\u001b[0m\u001b[0mpopen_fork\u001b[0m \u001b[0;32mimport\u001b[0m \u001b[0mPopen\u001b[0m\u001b[0;34m\u001b[0m\u001b[0;34m\u001b[0m\u001b[0m\n\u001b[0;32m--> 277\u001b[0;31m             \u001b[0;32mreturn\u001b[0m \u001b[0mPopen\u001b[0m\u001b[0;34m(\u001b[0m\u001b[0mprocess_obj\u001b[0m\u001b[0;34m)\u001b[0m\u001b[0;34m\u001b[0m\u001b[0;34m\u001b[0m\u001b[0m\n\u001b[0m\u001b[1;32m    278\u001b[0m \u001b[0;34m\u001b[0m\u001b[0m\n\u001b[1;32m    279\u001b[0m     \u001b[0;32mclass\u001b[0m \u001b[0mSpawnProcess\u001b[0m\u001b[0;34m(\u001b[0m\u001b[0mprocess\u001b[0m\u001b[0;34m.\u001b[0m\u001b[0mBaseProcess\u001b[0m\u001b[0;34m)\u001b[0m\u001b[0;34m:\u001b[0m\u001b[0;34m\u001b[0m\u001b[0;34m\u001b[0m\u001b[0m\n",
      "\u001b[0;32m/opt/conda/lib/python3.7/multiprocessing/popen_fork.py\u001b[0m in \u001b[0;36m__init__\u001b[0;34m(self, process_obj)\u001b[0m\n\u001b[1;32m     15\u001b[0m \u001b[0;34m\u001b[0m\u001b[0m\n\u001b[1;32m     16\u001b[0m     \u001b[0;32mdef\u001b[0m \u001b[0m__init__\u001b[0m\u001b[0;34m(\u001b[0m\u001b[0mself\u001b[0m\u001b[0;34m,\u001b[0m \u001b[0mprocess_obj\u001b[0m\u001b[0;34m)\u001b[0m\u001b[0;34m:\u001b[0m\u001b[0;34m\u001b[0m\u001b[0;34m\u001b[0m\u001b[0m\n\u001b[0;32m---> 17\u001b[0;31m         \u001b[0mutil\u001b[0m\u001b[0;34m.\u001b[0m\u001b[0m_flush_std_streams\u001b[0m\u001b[0;34m(\u001b[0m\u001b[0;34m)\u001b[0m\u001b[0;34m\u001b[0m\u001b[0;34m\u001b[0m\u001b[0m\n\u001b[0m\u001b[1;32m     18\u001b[0m         \u001b[0mself\u001b[0m\u001b[0;34m.\u001b[0m\u001b[0mreturncode\u001b[0m \u001b[0;34m=\u001b[0m \u001b[0;32mNone\u001b[0m\u001b[0;34m\u001b[0m\u001b[0;34m\u001b[0m\u001b[0m\n\u001b[1;32m     19\u001b[0m         \u001b[0mself\u001b[0m\u001b[0;34m.\u001b[0m\u001b[0mfinalizer\u001b[0m \u001b[0;34m=\u001b[0m \u001b[0;32mNone\u001b[0m\u001b[0;34m\u001b[0m\u001b[0;34m\u001b[0m\u001b[0m\n",
      "\u001b[0;32m/opt/conda/lib/python3.7/multiprocessing/util.py\u001b[0m in \u001b[0;36m_flush_std_streams\u001b[0;34m()\u001b[0m\n\u001b[1;32m    433\u001b[0m \u001b[0;32mdef\u001b[0m \u001b[0m_flush_std_streams\u001b[0m\u001b[0;34m(\u001b[0m\u001b[0;34m)\u001b[0m\u001b[0;34m:\u001b[0m\u001b[0;34m\u001b[0m\u001b[0;34m\u001b[0m\u001b[0m\n\u001b[1;32m    434\u001b[0m     \u001b[0;32mtry\u001b[0m\u001b[0;34m:\u001b[0m\u001b[0;34m\u001b[0m\u001b[0;34m\u001b[0m\u001b[0m\n\u001b[0;32m--> 435\u001b[0;31m         \u001b[0msys\u001b[0m\u001b[0;34m.\u001b[0m\u001b[0mstdout\u001b[0m\u001b[0;34m.\u001b[0m\u001b[0mflush\u001b[0m\u001b[0;34m(\u001b[0m\u001b[0;34m)\u001b[0m\u001b[0;34m\u001b[0m\u001b[0;34m\u001b[0m\u001b[0m\n\u001b[0m\u001b[1;32m    436\u001b[0m     \u001b[0;32mexcept\u001b[0m \u001b[0;34m(\u001b[0m\u001b[0mAttributeError\u001b[0m\u001b[0;34m,\u001b[0m \u001b[0mValueError\u001b[0m\u001b[0;34m)\u001b[0m\u001b[0;34m:\u001b[0m\u001b[0;34m\u001b[0m\u001b[0;34m\u001b[0m\u001b[0m\n\u001b[1;32m    437\u001b[0m         \u001b[0;32mpass\u001b[0m\u001b[0;34m\u001b[0m\u001b[0;34m\u001b[0m\u001b[0m\n",
      "\u001b[0;32m/opt/conda/lib/python3.7/site-packages/ipykernel/iostream.py\u001b[0m in \u001b[0;36mflush\u001b[0;34m(self)\u001b[0m\n\u001b[1;32m    350\u001b[0m                 \u001b[0mself\u001b[0m\u001b[0;34m.\u001b[0m\u001b[0mpub_thread\u001b[0m\u001b[0;34m.\u001b[0m\u001b[0mschedule\u001b[0m\u001b[0;34m(\u001b[0m\u001b[0mevt\u001b[0m\u001b[0;34m.\u001b[0m\u001b[0mset\u001b[0m\u001b[0;34m)\u001b[0m\u001b[0;34m\u001b[0m\u001b[0;34m\u001b[0m\u001b[0m\n\u001b[1;32m    351\u001b[0m                 \u001b[0;31m# and give a timeout to avoid\u001b[0m\u001b[0;34m\u001b[0m\u001b[0;34m\u001b[0m\u001b[0;34m\u001b[0m\u001b[0m\n\u001b[0;32m--> 352\u001b[0;31m                 \u001b[0;32mif\u001b[0m \u001b[0;32mnot\u001b[0m \u001b[0mevt\u001b[0m\u001b[0;34m.\u001b[0m\u001b[0mwait\u001b[0m\u001b[0;34m(\u001b[0m\u001b[0mself\u001b[0m\u001b[0;34m.\u001b[0m\u001b[0mflush_timeout\u001b[0m\u001b[0;34m)\u001b[0m\u001b[0;34m:\u001b[0m\u001b[0;34m\u001b[0m\u001b[0;34m\u001b[0m\u001b[0m\n\u001b[0m\u001b[1;32m    353\u001b[0m                     \u001b[0;31m# write directly to __stderr__ instead of warning because\u001b[0m\u001b[0;34m\u001b[0m\u001b[0;34m\u001b[0m\u001b[0;34m\u001b[0m\u001b[0m\n\u001b[1;32m    354\u001b[0m                     \u001b[0;31m# if this is happening sys.stderr may be the problem.\u001b[0m\u001b[0;34m\u001b[0m\u001b[0;34m\u001b[0m\u001b[0;34m\u001b[0m\u001b[0m\n",
      "\u001b[0;31mKeyboardInterrupt\u001b[0m: "
     ]
    }
   ],
   "source": [
    "word_splits = [200, 400, 600, 800, 1000, 1200, 1400, 1600, 1800, 2000, 2200, 2400, 2600, 2800, 3000]\n",
    "\n",
    "def get_contexts(context):\n",
    "    contexts = []\n",
    "    context_words_list = context.split(' ')\n",
    "    print(len(context_words_list))\n",
    "    for split in word_splits:\n",
    "        if len(context_words_list) > split:\n",
    "            split_context = ' '.join(context_words_list[:split])\n",
    "            contexts.append(split_context)\n",
    "    return contexts\n",
    "\n",
    "context = (\n",
    "  \"A forma de pensar e se relacionar da sociedade mudou. E o surgimento de novas tecnologias foi o maior influenciador desta mudança, que afetou sobretudo o jeito de se comunicar das empresas e os objetivos da Ilhasoft. \"\n",
    "  \"A Plataforma Push, produto Ilhasoft, tem participado ativamente desta mudança com soluções que tornaram o relacionamento entre empresas e clientes mais dinâmico e positivo.\"\n",
    "  \"Unindo a vontade de causar impacto social com o propósito de assegurar a melhor experiência para o usuário, a Ilhasoft utiliza a inteligência artificial para solucionar problemas de comunicação. \"\n",
    "  \"Neste artigo, vamos conhecer algumas das soluções oferecidas pela Ilhasoft e entender como elas podem auxiliar as estratégias de comunicação do seu negócio. Confira! \"\n",
    "  \"Um dos maiores desafios das empresas é otimizar o seu serviço de atendimento ao cliente. \"\n",
    "  \"Alguns negócios recebem um alto volume de solicitações do seu público, seja para tirar dúvidas, solicitar suporte ou resolver um problema específico. \"\n",
    "  \"A alta quantidade de solicitações de contato muitas vezes demanda muitos atendentes. Isso costuma ser inviável, devido ao alto custo envolvido na contratação de colaboradores. O resultado muitas vezes é uma equipe de SAC com sobrecarga de trabalho. \"\n",
    "  \"A saída economicamente viável para este tipo de problema está na tecnologia, mais especificamente nos chatbots. Com eles, é possível automatizar a comunicação com o seu público e assim desafogar a equipe humana de atendentes. \"\n",
    "  \"Push Platform é a solução em chatbots da Ilhasoft. Com ela, é possível criar automações para agilizar tarefas monótonas e repetitivas, programando um assistente virtual para responder dúvidas frequentes. Além disso, ele também pode ser capaz de enviar materiais e transmitir informações para o usuário, por exemplo. \"\n",
    "  \"Desta forma, o chatbot qualifica a conversa com o usuário e o direciona à sua equipe humana caso necessário. Assim, boa parte do atendimento é automatizado e a sua equipe humana tem mais tempo para focar em problemas complexos e se dedicar a ações estratégicas. \"\n",
    "  \"Como dissemos no início deste artigo, a tecnologia mudou a forma como pessoas e empresas se comunicam. \"\n",
    "  \"Hoje, o público espera um atendimento omnichannel, ou seja, multicanal. O usuário espera encontrar o mesmo produto ou serviço, com os mesmos preços, condições e atendimento em cada um dos canais que a sua empresa atua. \"\n",
    "  \"Para isso, é preciso integrar todos os processos do seu negócio para oferecer ao usuário uma experiência positiva e única independente do canal utilizado por ele para se comunicar com a sua empresa. \"\n",
    "  \"Push Platform atende muito bem a este papel, ao disponibilizar a criação de chatbots omnichannel. \"\n",
    "  \"Eles possuem integração com diversos canais de comunicação, como Whatsapp, Telegram, Facebook Messenger, seu site e até o aplicativo da sua empresa. Conectando os assistentes a um sistema de livechat, a estratégia omnichannel atinge outros níveis de produtividade nas empresas! \"\n",
    "  \"Ao utilizar a estratégia de chatbots no seu atendimento omnichannel, é possível captar dados do consumidor em cada um dos canais em que ele interage. Assim, é fácil traçar um perfil que pode ser utilizado em estratégias de marketing e vendas. \"\n",
    "  \"Nada pior do que iniciar uma conversa com o chatbot de uma empresa e perceber que ele soa robótico. Pior ainda é ele não conseguir interpretar e solucionar as suas solicitações. \"\n",
    "  \"Quando isso acontece, a experiência do usuário acaba sendo negativa. Isso pode prejudicar a sua marca e fazer com que a sua empresa perca oportunidades de negócio. \"\n",
    "  \"Para evitar chatbots engessados, a Ilhasoft desenvolveu o Bothub. Esse sistema de Processamento de Linguagem Natural (PLN) utiliza Inteligência Artificial (IA) para ajudar os chatbots a compreenderem a linguagem que nós falamos. \"\n",
    "  \"O mais interessante é que o Bothub é uma plataforma colaborativa, totalmente aberta e democrática. Qualquer pessoa pode se cadastrar gratuitamente, criar sua própria IA e compartilhar os dados com a comunidade. Também é possível contribuir com inteligências já existentes adicionando mais exemplos ou suporte a outros idiomas. \"\n",
    "  \"Assim, com o uso do Push Platform e do Bothub, duas soluções Ilhasoft, é possível criar chatbots inteligentes, capazes de interpretar e entregar a melhor solução para o seu usuário, através de uma conversa inteligente e natural. \"\n",
    "  \"Vale ressaltar que o Bothub ganhou o 2º lugar da categoria “Desenvolvedores de Apps e Conteúdo” no Anuário Tele.Síntese de Inovação em Comunicações em 2018. \"\n",
    "  \"Não há dúvidas sobre a forte presença do WhatsApp nas estratégias de comunicação das empresas. Para ter ideia, 76% dos usuários do WhatsApp afirmam utilizar o aplicativo para se comunicar com marcas, de acordo com pesquisa realizada pela Mobile Time. \"\n",
    "  \"E isso não é surpresa, afinal o WhatsApp tem investido em soluções voltadas para o uso corporativo do aplicativo. \"\n",
    "  \"Um exemplo é lançamento da versão Business e a liberação da sua API em 2018. \"\n",
    "  \"E a tendência é que o aplicativo continue investindo em recursos para empresas. O CEO e cofundador do Facebook, Mark Zuckerberg, confirmou que pretende lançar oficialmente o WhatsApp Payments (solução para pagamentos dentro do app) ainda este ano. \"\n",
    "  \"De olho na evolução e importância deste canal de comunicação para as empresas, a Ilhasoft firmou uma parceria com a Dialog360. A empresa europeia é autorizada oficialmente pelo WhatsApp a fornecer contas oficiais para uso da API do aplicativo. \"\n",
    "  \"O Push WhatsApp Business API, solução desenvolvida pela Ilhasoft, permite utilizar o WhatsApp de forma mais eficiente na comunicação com o seu público. \"\n",
    "  \"Com ele, você pode utilizar um único número para integrar o aplicativo a um sistema de atendimento. Assim, você pode direcionar seus clientes automaticamente a atendentes específicos. Ou seja, com um único número, você consegue realizar diversos atendimentos simultâneos. \"\n",
    "  \"Além disso, você também pode utilizar este mesmo sistema de atendimento para a comunicação interna da sua empresa. Essa é uma solução para trazer mais produtividade à sua equipe, mesmo em casos de trabalho home office. \"\n",
    "  \"E a tendência é que o aplicativo continue investindo em recursos para empresas. O CEO e cofundador do Facebook, Mark Zuckerberg, confirmou que pretende lançar oficialmente o WhatsApp Payments (solução para pagamentos dentro do app) ainda este ano. \"\n",
    "  \"De olho na evolução e importância deste canal de comunicação para as empresas, a Ilhasoft firmou uma parceria com a Dialog360. A empresa europeia é autorizada oficialmente pelo WhatsApp a fornecer contas oficiais para uso da API do aplicativo. \"\n",
    "  \"O Push WhatsApp Business API, solução desenvolvida pela Ilhasoft, permite utilizar o WhatsApp de forma mais eficiente na comunicação com o seu público. \"\n",
    "  \"Com ele, você pode utilizar um único número para integrar o aplicativo a um sistema de atendimento. Assim, você pode direcionar seus clientes automaticamente a atendentes específicos. Ou seja, com um único número, você consegue realizar diversos atendimentos simultâneos. \"\n",
    "  \"Além disso, você também pode utilizar este mesmo sistema de atendimento para a comunicação interna da sua empresa. Essa é uma solução para trazer mais produtividade à sua equipe, mesmo em casos de trabalho home office. \"\n",
    "  \"De olho na evolução e importância deste canal de comunicação para as empresas, a Ilhasoft firmou uma parceria com a Dialog360. A empresa europeia é autorizada oficialmente pelo WhatsApp a fornecer contas oficiais para uso da API do aplicativo. \"\n",
    "  \"O Push WhatsApp Business API, solução desenvolvida pela Ilhasoft, permite utilizar o WhatsApp de forma mais eficiente na comunicação com o seu público. \"\n",
    "  \"Com ele, você pode utilizar um único número para integrar o aplicativo a um sistema de atendimento. Assim, você pode direcionar seus clientes automaticamente a atendentes específicos. Ou seja, com um único número, você consegue realizar diversos atendimentos simultâneos. \"\n",
    "  \"Além disso, você também pode utilizar este mesmo sistema de atendimento para a comunicação interna da sua empresa. Essa é uma solução para trazer mais produtividade à sua equipe, mesmo em casos de trabalho home office. \"\n",
    "    \"A forma de pensar e se relacionar da sociedade mudou. E o surgimento de novas tecnologias foi o maior influenciador desta mudança, que afetou sobretudo o jeito de se comunicar das empresas e os objetivos da Ilhasoft. \"\n",
    "  \"A Plataforma Push, produto Ilhasoft, tem participado ativamente desta mudança com soluções que tornaram o relacionamento entre empresas e clientes mais dinâmico e positivo.\"\n",
    "  \"Unindo a vontade de causar impacto social com o propósito de assegurar a melhor experiência para o usuário, a Ilhasoft utiliza a inteligência artificial para solucionar problemas de comunicação. \"\n",
    "  \"Neste artigo, vamos conhecer algumas das soluções oferecidas pela Ilhasoft e entender como elas podem auxiliar as estratégias de comunicação do seu negócio. Confira! \"\n",
    "  \"Um dos maiores desafios das empresas é otimizar o seu serviço de atendimento ao cliente. \"\n",
    "  \"Alguns negócios recebem um alto volume de solicitações do seu público, seja para tirar dúvidas, solicitar suporte ou resolver um problema específico. \"\n",
    "  \"A alta quantidade de solicitações de contato muitas vezes demanda muitos atendentes. Isso costuma ser inviável, devido ao alto custo envolvido na contratação de colaboradores. O resultado muitas vezes é uma equipe de SAC com sobrecarga de trabalho. \"\n",
    "  \"A saída economicamente viável para este tipo de problema está na tecnologia, mais especificamente nos chatbots. Com eles, é possível automatizar a comunicação com o seu público e assim desafogar a equipe humana de atendentes. \"\n",
    "  \"Push Platform é a solução em chatbots da Ilhasoft. Com ela, é possível criar automações para agilizar tarefas monótonas e repetitivas, programando um assistente virtual para responder dúvidas frequentes. Além disso, ele também pode ser capaz de enviar materiais e transmitir informações para o usuário, por exemplo. \"\n",
    "  \"Desta forma, o chatbot qualifica a conversa com o usuário e o direciona à sua equipe humana caso necessário. Assim, boa parte do atendimento é automatizado e a sua equipe humana tem mais tempo para focar em problemas complexos e se dedicar a ações estratégicas. \"\n",
    "  \"Como dissemos no início deste artigo, a tecnologia mudou a forma como pessoas e empresas se comunicam. \"\n",
    "  \"Hoje, o público espera um atendimento omnichannel, ou seja, multicanal. O usuário espera encontrar o mesmo produto ou serviço, com os mesmos preços, condições e atendimento em cada um dos canais que a sua empresa atua. \"\n",
    "  \"Para isso, é preciso integrar todos os processos do seu negócio para oferecer ao usuário uma experiência positiva e única independente do canal utilizado por ele para se comunicar com a sua empresa. \"\n",
    "  \"Push Platform atende muito bem a este papel, ao disponibilizar a criação de chatbots omnichannel. \"\n",
    "  \"Eles possuem integração com diversos canais de comunicação, como Whatsapp, Telegram, Facebook Messenger, seu site e até o aplicativo da sua empresa. Conectando os assistentes a um sistema de livechat, a estratégia omnichannel atinge outros níveis de produtividade nas empresas! \"\n",
    "  \"Ao utilizar a estratégia de chatbots no seu atendimento omnichannel, é possível captar dados do consumidor em cada um dos canais em que ele interage. Assim, é fácil traçar um perfil que pode ser utilizado em estratégias de marketing e vendas. \"\n",
    "  \"Nada pior do que iniciar uma conversa com o chatbot de uma empresa e perceber que ele soa robótico. Pior ainda é ele não conseguir interpretar e solucionar as suas solicitações. \"\n",
    "  \"Quando isso acontece, a experiência do usuário acaba sendo negativa. Isso pode prejudicar a sua marca e fazer com que a sua empresa perca oportunidades de negócio. \"\n",
    "  \"Para evitar chatbots engessados, a Ilhasoft desenvolveu o Bothub. Esse sistema de Processamento de Linguagem Natural (PLN) utiliza Inteligência Artificial (IA) para ajudar os chatbots a compreenderem a linguagem que nós falamos. \"\n",
    "  \"O mais interessante é que o Bothub é uma plataforma colaborativa, totalmente aberta e democrática. Qualquer pessoa pode se cadastrar gratuitamente, criar sua própria IA e compartilhar os dados com a comunidade. Também é possível contribuir com inteligências já existentes adicionando mais exemplos ou suporte a outros idiomas. \"\n",
    "  \"Assim, com o uso do Push Platform e do Bothub, duas soluções Ilhasoft, é possível criar chatbots inteligentes, capazes de interpretar e entregar a melhor solução para o seu usuário, através de uma conversa inteligente e natural. \"\n",
    "  \"Vale ressaltar que o Bothub ganhou o 2º lugar da categoria “Desenvolvedores de Apps e Conteúdo” no Anuário Tele.Síntese de Inovação em Comunicações em 2018. \"\n",
    "  \"Não há dúvidas sobre a forte presença do WhatsApp nas estratégias de comunicação das empresas. Para ter ideia, 76% dos usuários do WhatsApp afirmam utilizar o aplicativo para se comunicar com marcas, de acordo com pesquisa realizada pela Mobile Time. \"\n",
    "  \"E isso não é surpresa, afinal o WhatsApp tem investido em soluções voltadas para o uso corporativo do aplicativo. \"\n",
    "  \"Um exemplo é lançamento da versão Business e a liberação da sua API em 2018. \"\n",
    "  \"E a tendência é que o aplicativo continue investindo em recursos para empresas. O CEO e cofundador do Facebook, Mark Zuckerberg, confirmou que pretende lançar oficialmente o WhatsApp Payments (solução para pagamentos dentro do app) ainda este ano. \"\n",
    "  \"De olho na evolução e importância deste canal de comunicação para as empresas, a Ilhasoft firmou uma parceria com a Dialog360. A empresa europeia é autorizada oficialmente pelo WhatsApp a fornecer contas oficiais para uso da API do aplicativo. \"\n",
    "  \"O Push WhatsApp Business API, solução desenvolvida pela Ilhasoft, permite utilizar o WhatsApp de forma mais eficiente na comunicação com o seu público. \"\n",
    "  \"Com ele, você pode utilizar um único número para integrar o aplicativo a um sistema de atendimento. Assim, você pode direcionar seus clientes automaticamente a atendentes específicos. Ou seja, com um único número, você consegue realizar diversos atendimentos simultâneos. \"\n",
    "  \"Além disso, você também pode utilizar este mesmo sistema de atendimento para a comunicação interna da sua empresa. Essa é uma solução para trazer mais produtividade à sua equipe, mesmo em casos de trabalho home office. \"\n",
    "  \"E a tendência é que o aplicativo continue investindo em recursos para empresas. O CEO e cofundador do Facebook, Mark Zuckerberg, confirmou que pretende lançar oficialmente o WhatsApp Payments (solução para pagamentos dentro do app) ainda este ano. \"\n",
    "  \"De olho na evolução e importância deste canal de comunicação para as empresas, a Ilhasoft firmou uma parceria com a Dialog360. A empresa europeia é autorizada oficialmente pelo WhatsApp a fornecer contas oficiais para uso da API do aplicativo. \"\n",
    "  \"O Push WhatsApp Business API, solução desenvolvida pela Ilhasoft, permite utilizar o WhatsApp de forma mais eficiente na comunicação com o seu público. \"\n",
    "  \"Com ele, você pode utilizar um único número para integrar o aplicativo a um sistema de atendimento. Assim, você pode direcionar seus clientes automaticamente a atendentes específicos. Ou seja, com um único número, você consegue realizar diversos atendimentos simultâneos. \"\n",
    "  \"Além disso, você também pode utilizar este mesmo sistema de atendimento para a comunicação interna da sua empresa. Essa é uma solução para trazer mais produtividade à sua equipe, mesmo em casos de trabalho home office. \"\n",
    "  \"De olho na evolução e importância deste canal de comunicação para as empresas, a Ilhasoft firmou uma parceria com a Dialog360. A empresa europeia é autorizada oficialmente pelo WhatsApp a fornecer contas oficiais para uso da API do aplicativo. \"\n",
    "  \"O Push WhatsApp Business API, solução desenvolvida pela Ilhasoft, permite utilizar o WhatsApp de forma mais eficiente na comunicação com o seu público. \"\n",
    "  \"Com ele, você pode utilizar um único número para integrar o aplicativo a um sistema de atendimento. Assim, você pode direcionar seus clientes automaticamente a atendentes específicos. Ou seja, com um único número, você consegue realizar diversos atendimentos simultâneos. \"\n",
    "  \"Além disso, você também pode utilizar este mesmo sistema de atendimento para a comunicação interna da sua empresa. Essa é uma solução para trazer mais produtividade à sua equipe, mesmo em casos de trabalho home office. \"\n",
    "    \"A forma de pensar e se relacionar da sociedade mudou. E o surgimento de novas tecnologias foi o maior influenciador desta mudança, que afetou sobretudo o jeito de se comunicar das empresas e os objetivos da Ilhasoft. \"\n",
    "  \"A Plataforma Push, produto Ilhasoft, tem participado ativamente desta mudança com soluções que tornaram o relacionamento entre empresas e clientes mais dinâmico e positivo.\"\n",
    "  \"Unindo a vontade de causar impacto social com o propósito de assegurar a melhor experiência para o usuário, a Ilhasoft utiliza a inteligência artificial para solucionar problemas de comunicação. \"\n",
    "  \"Neste artigo, vamos conhecer algumas das soluções oferecidas pela Ilhasoft e entender como elas podem auxiliar as estratégias de comunicação do seu negócio. Confira! \"\n",
    "  \"Um dos maiores desafios das empresas é otimizar o seu serviço de atendimento ao cliente. \"\n",
    "  \"Alguns negócios recebem um alto volume de solicitações do seu público, seja para tirar dúvidas, solicitar suporte ou resolver um problema específico. \"\n",
    "  \"A alta quantidade de solicitações de contato muitas vezes demanda muitos atendentes. Isso costuma ser inviável, devido ao alto custo envolvido na contratação de colaboradores. O resultado muitas vezes é uma equipe de SAC com sobrecarga de trabalho. \"\n",
    "  \"A saída economicamente viável para este tipo de problema está na tecnologia, mais especificamente nos chatbots. Com eles, é possível automatizar a comunicação com o seu público e assim desafogar a equipe humana de atendentes. \"\n",
    "  \"Push Platform é a solução em chatbots da Ilhasoft. Com ela, é possível criar automações para agilizar tarefas monótonas e repetitivas, programando um assistente virtual para responder dúvidas frequentes. Além disso, ele também pode ser capaz de enviar materiais e transmitir informações para o usuário, por exemplo. \"\n",
    "  \"Desta forma, o chatbot qualifica a conversa com o usuário e o direciona à sua equipe humana caso necessário. Assim, boa parte do atendimento é automatizado e a sua equipe humana tem mais tempo para focar em problemas complexos e se dedicar a ações estratégicas. \"\n",
    "  \"Como dissemos no início deste artigo, a tecnologia mudou a forma como pessoas e empresas se comunicam. \"\n",
    "  \"Hoje, o público espera um atendimento omnichannel, ou seja, multicanal. O usuário espera encontrar o mesmo produto ou serviço, com os mesmos preços, condições e atendimento em cada um dos canais que a sua empresa atua. \"\n",
    "  \"Para isso, é preciso integrar todos os processos do seu negócio para oferecer ao usuário uma experiência positiva e única independente do canal utilizado por ele para se comunicar com a sua empresa. \"\n",
    "  \"Push Platform atende muito bem a este papel, ao disponibilizar a criação de chatbots omnichannel. \"\n",
    "  \"Eles possuem integração com diversos canais de comunicação, como Whatsapp, Telegram, Facebook Messenger, seu site e até o aplicativo da sua empresa. Conectando os assistentes a um sistema de livechat, a estratégia omnichannel atinge outros níveis de produtividade nas empresas! \"\n",
    "  \"Ao utilizar a estratégia de chatbots no seu atendimento omnichannel, é possível captar dados do consumidor em cada um dos canais em que ele interage. Assim, é fácil traçar um perfil que pode ser utilizado em estratégias de marketing e vendas. \"\n",
    "  \"Nada pior do que iniciar uma conversa com o chatbot de uma empresa e perceber que ele soa robótico. Pior ainda é ele não conseguir interpretar e solucionar as suas solicitações. \"\n",
    "  \"Quando isso acontece, a experiência do usuário acaba sendo negativa. Isso pode prejudicar a sua marca e fazer com que a sua empresa perca oportunidades de negócio. \"\n",
    "  \"Para evitar chatbots engessados, a Ilhasoft desenvolveu o Bothub. Esse sistema de Processamento de Linguagem Natural (PLN) utiliza Inteligência Artificial (IA) para ajudar os chatbots a compreenderem a linguagem que nós falamos. \"\n",
    "  \"O mais interessante é que o Bothub é uma plataforma colaborativa, totalmente aberta e democrática. Qualquer pessoa pode se cadastrar gratuitamente, criar sua própria IA e compartilhar os dados com a comunidade. Também é possível contribuir com inteligências já existentes adicionando mais exemplos ou suporte a outros idiomas. \"\n",
    "  \"Assim, com o uso do Push Platform e do Bothub, duas soluções Ilhasoft, é possível criar chatbots inteligentes, capazes de interpretar e entregar a melhor solução para o seu usuário, através de uma conversa inteligente e natural. \"\n",
    "  \"Vale ressaltar que o Bothub ganhou o 2º lugar da categoria “Desenvolvedores de Apps e Conteúdo” no Anuário Tele.Síntese de Inovação em Comunicações em 2018. \"\n",
    "  \"Não há dúvidas sobre a forte presença do WhatsApp nas estratégias de comunicação das empresas. Para ter ideia, 76% dos usuários do WhatsApp afirmam utilizar o aplicativo para se comunicar com marcas, de acordo com pesquisa realizada pela Mobile Time. \"\n",
    "  \"E isso não é surpresa, afinal o WhatsApp tem investido em soluções voltadas para o uso corporativo do aplicativo. \"\n",
    "  \"Um exemplo é lançamento da versão Business e a liberação da sua API em 2018. \"\n",
    "  \"E a tendência é que o aplicativo continue investindo em recursos para empresas. O CEO e cofundador do Facebook, Mark Zuckerberg, confirmou que pretende lançar oficialmente o WhatsApp Payments (solução para pagamentos dentro do app) ainda este ano. \"\n",
    "  \"De olho na evolução e importância deste canal de comunicação para as empresas, a Ilhasoft firmou uma parceria com a Dialog360. A empresa europeia é autorizada oficialmente pelo WhatsApp a fornecer contas oficiais para uso da API do aplicativo. \"\n",
    "  \"O Push WhatsApp Business API, solução desenvolvida pela Ilhasoft, permite utilizar o WhatsApp de forma mais eficiente na comunicação com o seu público. \"\n",
    "  \"Com ele, você pode utilizar um único número para integrar o aplicativo a um sistema de atendimento. Assim, você pode direcionar seus clientes automaticamente a atendentes específicos. Ou seja, com um único número, você consegue realizar diversos atendimentos simultâneos. \"\n",
    "  \"Além disso, você também pode utilizar este mesmo sistema de atendimento para a comunicação interna da sua empresa. Essa é uma solução para trazer mais produtividade à sua equipe, mesmo em casos de trabalho home office. \"\n",
    "  \"E a tendência é que o aplicativo continue investindo em recursos para empresas. O CEO e cofundador do Facebook, Mark Zuckerberg, confirmou que pretende lançar oficialmente o WhatsApp Payments (solução para pagamentos dentro do app) ainda este ano. \"\n",
    "  \"De olho na evolução e importância deste canal de comunicação para as empresas, a Ilhasoft firmou uma parceria com a Dialog360. A empresa europeia é autorizada oficialmente pelo WhatsApp a fornecer contas oficiais para uso da API do aplicativo. \"\n",
    "  \"O Push WhatsApp Business API, solução desenvolvida pela Ilhasoft, permite utilizar o WhatsApp de forma mais eficiente na comunicação com o seu público. \"\n",
    "  \"Com ele, você pode utilizar um único número para integrar o aplicativo a um sistema de atendimento. Assim, você pode direcionar seus clientes automaticamente a atendentes específicos. Ou seja, com um único número, você consegue realizar diversos atendimentos simultâneos. \"\n",
    "  \"Além disso, você também pode utilizar este mesmo sistema de atendimento para a comunicação interna da sua empresa. Essa é uma solução para trazer mais produtividade à sua equipe, mesmo em casos de trabalho home office. \"\n",
    "  \"De olho na evolução e importância deste canal de comunicação para as empresas, a Ilhasoft firmou uma parceria com a Dialog360. A empresa europeia é autorizada oficialmente pelo WhatsApp a fornecer contas oficiais para uso da API do aplicativo. \"\n",
    "  \"O Push WhatsApp Business API, solução desenvolvida pela Ilhasoft, permite utilizar o WhatsApp de forma mais eficiente na comunicação com o seu público. \"\n",
    "  \"Com ele, você pode utilizar um único número para integrar o aplicativo a um sistema de atendimento. Assim, você pode direcionar seus clientes automaticamente a atendentes específicos. Ou seja, com um único número, você consegue realizar diversos atendimentos simultâneos. \"\n",
    "  \"Além disso, você também pode utilizar este mesmo sistema de atendimento para a comunicação interna da sua empresa. Essa é uma solução para trazer mais produtividade à sua equipe, mesmo em casos de trabalho home office. \"\n",
    ")\n",
    "\n",
    "import time\n",
    "import statistics\n",
    "\n",
    "questions = [\"Quem e o CEO e cofundador do facebook?\", \"Oque e o Bothub?\", \"Qual minha comida favorita?\", \"Qual um dos maiores desafios da empresa?\", \"Oque e o Push Whatsapp business api?\"]\n",
    "contexts = get_contexts(context)\n",
    "\n",
    "n_predicts = 3\n",
    "parse_times = []\n",
    "for context in contexts:\n",
    "    for question in questions:\n",
    "        query = [\n",
    "            {\n",
    "              'context': context,\n",
    "              'qas': [\n",
    "                  {'id': '0', 'question': question},\n",
    "              ]\n",
    "            }\n",
    "        ]\n",
    "        question_time_start = time.time()\n",
    "        for _ in range(n_predicts):\n",
    "            \n",
    "            pred = model.predict(query)\n",
    "            print(\"Pergunta: \", question)\n",
    "            print(\"Resposta: \", pred[0][0]['answer'][0])\n",
    "            print(\"Confiança: \", pred[1][0]['probability'][0])\n",
    "            print()\n",
    "        parse_times.append(round((time.time() - question_time_start)/n_predicts, 3))\n",
    "\n",
    "print(parse_times)\n",
    "print(f\"mean: {statistics.mean(parse_times)}\")\n",
    "print(f\"median: {statistics.median(parse_times)}\")\n",
    "print(f\"min: {min(parse_times)}\")\n",
    "print(f\"max: {max(parse_times)}\")\n",
    "\n",
    "y_axis = []\n",
    "for i in range(len(word_splits)):\n",
    "    print(word_splits[i])\n",
    "    offset = i * len(questions)\n",
    "    word_splits_times = parse_times[offset:offset + len(questions)]\n",
    "    y_axis.append(statistics.mean(word_splits_times))\n",
    "    \n",
    "print(f\"x: {word_splits}\")\n",
    "print(f\"y: {y_axis}\")\n",
    "\n",
    "%matplotlib inline\n",
    "from matplotlib import pyplot as plt\n",
    "import pandas as pd\n",
    "\n",
    "\n",
    "fig=plt.figure()\n",
    "ax=fig.add_axes([0,0,1,1])\n",
    "ax.plot(word_splits, new_y_axis)\n",
    "ax.set_xlabel('words')\n",
    "ax.set_ylabel('seconds')"
   ]
  },
  {
   "cell_type": "markdown",
   "metadata": {},
   "source": [
    "# example"
   ]
  },
  {
   "cell_type": "code",
   "execution_count": 7,
   "metadata": {},
   "outputs": [
    {
     "ename": "KeyboardInterrupt",
     "evalue": "Interrupted by user",
     "output_type": "error",
     "traceback": [
      "\u001b[0;31m---------------------------------------------------------------------------\u001b[0m",
      "\u001b[0;31mKeyboardInterrupt\u001b[0m                         Traceback (most recent call last)",
      "\u001b[0;32m<ipython-input-7-b2b3f28252b9>\u001b[0m in \u001b[0;36m<module>\u001b[0;34m\u001b[0m\n\u001b[1;32m     36\u001b[0m \u001b[0;34m\u001b[0m\u001b[0m\n\u001b[1;32m     37\u001b[0m \u001b[0;32mwhile\u001b[0m \u001b[0;32mTrue\u001b[0m\u001b[0;34m:\u001b[0m\u001b[0;34m\u001b[0m\u001b[0;34m\u001b[0m\u001b[0m\n\u001b[0;32m---> 38\u001b[0;31m   \u001b[0mquestion\u001b[0m \u001b[0;34m=\u001b[0m \u001b[0minput\u001b[0m\u001b[0;34m(\u001b[0m\u001b[0;34m\"Pergunte sobre a Ilhasoft: \"\u001b[0m\u001b[0;34m)\u001b[0m\u001b[0;34m\u001b[0m\u001b[0;34m\u001b[0m\u001b[0m\n\u001b[0m\u001b[1;32m     39\u001b[0m \u001b[0;34m\u001b[0m\u001b[0m\n\u001b[1;32m     40\u001b[0m   query = [\n",
      "\u001b[0;32m/opt/conda/lib/python3.7/site-packages/ipykernel/kernelbase.py\u001b[0m in \u001b[0;36mraw_input\u001b[0;34m(self, prompt)\u001b[0m\n\u001b[1;32m    861\u001b[0m             \u001b[0mself\u001b[0m\u001b[0;34m.\u001b[0m\u001b[0m_parent_ident\u001b[0m\u001b[0;34m,\u001b[0m\u001b[0;34m\u001b[0m\u001b[0;34m\u001b[0m\u001b[0m\n\u001b[1;32m    862\u001b[0m             \u001b[0mself\u001b[0m\u001b[0;34m.\u001b[0m\u001b[0m_parent_header\u001b[0m\u001b[0;34m,\u001b[0m\u001b[0;34m\u001b[0m\u001b[0;34m\u001b[0m\u001b[0m\n\u001b[0;32m--> 863\u001b[0;31m             \u001b[0mpassword\u001b[0m\u001b[0;34m=\u001b[0m\u001b[0;32mFalse\u001b[0m\u001b[0;34m,\u001b[0m\u001b[0;34m\u001b[0m\u001b[0;34m\u001b[0m\u001b[0m\n\u001b[0m\u001b[1;32m    864\u001b[0m         )\n\u001b[1;32m    865\u001b[0m \u001b[0;34m\u001b[0m\u001b[0m\n",
      "\u001b[0;32m/opt/conda/lib/python3.7/site-packages/ipykernel/kernelbase.py\u001b[0m in \u001b[0;36m_input_request\u001b[0;34m(self, prompt, ident, parent, password)\u001b[0m\n\u001b[1;32m    902\u001b[0m             \u001b[0;32mexcept\u001b[0m \u001b[0mKeyboardInterrupt\u001b[0m\u001b[0;34m:\u001b[0m\u001b[0;34m\u001b[0m\u001b[0;34m\u001b[0m\u001b[0m\n\u001b[1;32m    903\u001b[0m                 \u001b[0;31m# re-raise KeyboardInterrupt, to truncate traceback\u001b[0m\u001b[0;34m\u001b[0m\u001b[0;34m\u001b[0m\u001b[0;34m\u001b[0m\u001b[0m\n\u001b[0;32m--> 904\u001b[0;31m                 \u001b[0;32mraise\u001b[0m \u001b[0mKeyboardInterrupt\u001b[0m\u001b[0;34m(\u001b[0m\u001b[0;34m\"Interrupted by user\"\u001b[0m\u001b[0;34m)\u001b[0m \u001b[0;32mfrom\u001b[0m \u001b[0;32mNone\u001b[0m\u001b[0;34m\u001b[0m\u001b[0;34m\u001b[0m\u001b[0m\n\u001b[0m\u001b[1;32m    905\u001b[0m             \u001b[0;32mexcept\u001b[0m \u001b[0mException\u001b[0m \u001b[0;32mas\u001b[0m \u001b[0me\u001b[0m\u001b[0;34m:\u001b[0m\u001b[0;34m\u001b[0m\u001b[0;34m\u001b[0m\u001b[0m\n\u001b[1;32m    906\u001b[0m                 \u001b[0mself\u001b[0m\u001b[0;34m.\u001b[0m\u001b[0mlog\u001b[0m\u001b[0;34m.\u001b[0m\u001b[0mwarning\u001b[0m\u001b[0;34m(\u001b[0m\u001b[0;34m\"Invalid Message:\"\u001b[0m\u001b[0;34m,\u001b[0m \u001b[0mexc_info\u001b[0m\u001b[0;34m=\u001b[0m\u001b[0;32mTrue\u001b[0m\u001b[0;34m)\u001b[0m\u001b[0;34m\u001b[0m\u001b[0;34m\u001b[0m\u001b[0m\n",
      "\u001b[0;31mKeyboardInterrupt\u001b[0m: Interrupted by user"
     ]
    }
   ],
   "source": [
    "context = (\n",
    "  \"A forma de pensar e se relacionar da sociedade mudou. E o surgimento de novas tecnologias foi o maior influenciador desta mudança, que afetou sobretudo o jeito de se comunicar das empresas e os objetivos da Ilhasoft. \"\n",
    "  \"A Plataforma Push, produto Ilhasoft, tem participado ativamente desta mudança com soluções que tornaram o relacionamento entre empresas e clientes mais dinâmico e positivo.\"\n",
    "  \"Unindo a vontade de causar impacto social com o propósito de assegurar a melhor experiência para o usuário, a Ilhasoft utiliza a inteligência artificial para solucionar problemas de comunicação. \"\n",
    "  \"Neste artigo, vamos conhecer algumas das soluções oferecidas pela Ilhasoft e entender como elas podem auxiliar as estratégias de comunicação do seu negócio. Confira! \"\n",
    "  \"Um dos maiores desafios das empresas é otimizar o seu serviço de atendimento ao cliente. \"\n",
    "  \"Alguns negócios recebem um alto volume de solicitações do seu público, seja para tirar dúvidas, solicitar suporte ou resolver um problema específico. \"\n",
    "  \"A alta quantidade de solicitações de contato muitas vezes demanda muitos atendentes. Isso costuma ser inviável, devido ao alto custo envolvido na contratação de colaboradores. O resultado muitas vezes é uma equipe de SAC com sobrecarga de trabalho. \"\n",
    "  \"A saída economicamente viável para este tipo de problema está na tecnologia, mais especificamente nos chatbots. Com eles, é possível automatizar a comunicação com o seu público e assim desafogar a equipe humana de atendentes. \"\n",
    "  \"Push Platform é a solução em chatbots da Ilhasoft. Com ela, é possível criar automações para agilizar tarefas monótonas e repetitivas, programando um assistente virtual para responder dúvidas frequentes. Além disso, ele também pode ser capaz de enviar materiais e transmitir informações para o usuário, por exemplo. \"\n",
    "  \"Desta forma, o chatbot qualifica a conversa com o usuário e o direciona à sua equipe humana caso necessário. Assim, boa parte do atendimento é automatizado e a sua equipe humana tem mais tempo para focar em problemas complexos e se dedicar a ações estratégicas. \"\n",
    "  \"Como dissemos no início deste artigo, a tecnologia mudou a forma como pessoas e empresas se comunicam. \"\n",
    "  \"Hoje, o público espera um atendimento omnichannel, ou seja, multicanal. O usuário espera encontrar o mesmo produto ou serviço, com os mesmos preços, condições e atendimento em cada um dos canais que a sua empresa atua. \"\n",
    "  \"Para isso, é preciso integrar todos os processos do seu negócio para oferecer ao usuário uma experiência positiva e única independente do canal utilizado por ele para se comunicar com a sua empresa. \"\n",
    "  \"Push Platform atende muito bem a este papel, ao disponibilizar a criação de chatbots omnichannel. \"\n",
    "  \"Eles possuem integração com diversos canais de comunicação, como Whatsapp, Telegram, Facebook Messenger, seu site e até o aplicativo da sua empresa. Conectando os assistentes a um sistema de livechat, a estratégia omnichannel atinge outros níveis de produtividade nas empresas! \"\n",
    "  \"Ao utilizar a estratégia de chatbots no seu atendimento omnichannel, é possível captar dados do consumidor em cada um dos canais em que ele interage. Assim, é fácil traçar um perfil que pode ser utilizado em estratégias de marketing e vendas. \"\n",
    "  \"Nada pior do que iniciar uma conversa com o chatbot de uma empresa e perceber que ele soa robótico. Pior ainda é ele não conseguir interpretar e solucionar as suas solicitações. \"\n",
    "  \"Quando isso acontece, a experiência do usuário acaba sendo negativa. Isso pode prejudicar a sua marca e fazer com que a sua empresa perca oportunidades de negócio. \"\n",
    "  \"Para evitar chatbots engessados, a Ilhasoft desenvolveu o Bothub. Esse sistema de Processamento de Linguagem Natural (PLN) utiliza Inteligência Artificial (IA) para ajudar os chatbots a compreenderem a linguagem que nós falamos. \"\n",
    "  \"O mais interessante é que o Bothub é uma plataforma colaborativa, totalmente aberta e democrática. Qualquer pessoa pode se cadastrar gratuitamente, criar sua própria IA e compartilhar os dados com a comunidade. Também é possível contribuir com inteligências já existentes adicionando mais exemplos ou suporte a outros idiomas. \"\n",
    "  \"Assim, com o uso do Push Platform e do Bothub, duas soluções Ilhasoft, é possível criar chatbots inteligentes, capazes de interpretar e entregar a melhor solução para o seu usuário, através de uma conversa inteligente e natural. \"\n",
    "  \"Vale ressaltar que o Bothub ganhou o 2º lugar da categoria “Desenvolvedores de Apps e Conteúdo” no Anuário Tele.Síntese de Inovação em Comunicações em 2018. \"\n",
    "  \"Não há dúvidas sobre a forte presença do WhatsApp nas estratégias de comunicação das empresas. Para ter ideia, 76% dos usuários do WhatsApp afirmam utilizar o aplicativo para se comunicar com marcas, de acordo com pesquisa realizada pela Mobile Time. \"\n",
    "  \"E isso não é surpresa, afinal o WhatsApp tem investido em soluções voltadas para o uso corporativo do aplicativo. \"\n",
    "  \"Um exemplo é lançamento da versão Business e a liberação da sua API em 2018. \"\n",
    "  \"E a tendência é que o aplicativo continue investindo em recursos para empresas. O CEO e cofundador do Facebook, Mark Zuckerberg, confirmou que pretende lançar oficialmente o WhatsApp Payments (solução para pagamentos dentro do app) ainda este ano. \"\n",
    "  \"De olho na evolução e importância deste canal de comunicação para as empresas, a Ilhasoft firmou uma parceria com a Dialog360. A empresa europeia é autorizada oficialmente pelo WhatsApp a fornecer contas oficiais para uso da API do aplicativo. \"\n",
    "  \"O Push WhatsApp Business API, solução desenvolvida pela Ilhasoft, permite utilizar o WhatsApp de forma mais eficiente na comunicação com o seu público. \"\n",
    "  \"Com ele, você pode utilizar um único número para integrar o aplicativo a um sistema de atendimento. Assim, você pode direcionar seus clientes automaticamente a atendentes específicos. Ou seja, com um único número, você consegue realizar diversos atendimentos simultâneos. \"\n",
    "  \"Além disso, você também pode utilizar este mesmo sistema de atendimento para a comunicação interna da sua empresa. Essa é uma solução para trazer mais produtividade à sua equipe, mesmo em casos de trabalho home office. \"\n",
    "  \"Com o Push WhatsApp Business API, também é possível fazer integrações com outros softwares, como ERP’s e CRM’s, e é claro, utilizar chatbots inteligentes. \"\n",
    "  \"Por fim, fica claro que a Ilhasoft possui as soluções que sua empresa precisa para otimizar a comunicação com seu público e potencializar estratégias de marketing e vendas. \"\n",
    "  \"Afinal, somos uma empresa com vasta experiência em tecnologia e inovação para estratégias de comunicação. Já ganhamos diversos prêmios nacionais e desenvolvemos soluções para clientes renomados mundialmente.\"\n",
    ")\n",
    "\n",
    "while True:\n",
    "  question = input(\"Pergunte sobre a Ilhasoft: \")\n",
    "\n",
    "  query = [\n",
    "    {\n",
    "      'context': context,\n",
    "      'qas': [\n",
    "          {'id': '0', 'question': question},\n",
    "      ]\n",
    "    }\n",
    "  ]\n",
    "\n",
    "  pred = model.predict(query)\n",
    "  print(\"Pergunta: \", question)\n",
    "  print(\"Resposta: \", pred[0][0]['answer'][0])\n",
    "  print(\"Confiança: \", pred[1][0]['probability'][0])\n",
    "  print()"
   ]
  },
  {
   "cell_type": "code",
   "execution_count": null,
   "metadata": {},
   "outputs": [],
   "source": []
  }
 ],
 "metadata": {
  "environment": {
   "name": "common-cu110.m59",
   "type": "gcloud",
   "uri": "gcr.io/deeplearning-platform-release/base-cu110:m59"
  },
  "kernelspec": {
   "display_name": "Python [conda env:root] *",
   "language": "python",
   "name": "conda-root-py"
  },
  "language_info": {
   "codemirror_mode": {
    "name": "ipython",
    "version": 3
   },
   "file_extension": ".py",
   "mimetype": "text/x-python",
   "name": "python",
   "nbconvert_exporter": "python",
   "pygments_lexer": "ipython3",
   "version": "3.7.8"
  }
 },
 "nbformat": 4,
 "nbformat_minor": 4
}
